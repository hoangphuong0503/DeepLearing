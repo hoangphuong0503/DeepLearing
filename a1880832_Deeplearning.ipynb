{
  "nbformat": 4,
  "nbformat_minor": 0,
  "metadata": {
    "colab": {
      "provenance": [],
      "machine_shape": "hm",
      "gpuType": "T4"
    },
    "kernelspec": {
      "name": "python3",
      "display_name": "Python 3"
    },
    "language_info": {
      "name": "python"
    },
    "accelerator": "GPU"
  },
  "cells": [
    {
      "cell_type": "code",
      "source": [
        "!pip install libsvmdata\n",
        "import numpy as np\n",
        "from sklearn.metrics import accuracy_score, precision_score, recall_score, f1_score, confusion_matrix\n",
        "import matplotlib.pyplot as plt"
      ],
      "metadata": {
        "colab": {
          "base_uri": "https://localhost:8080/"
        },
        "id": "jJtVniXiSn1Y",
        "outputId": "de61e4b0-1302-43eb-e5f5-7dbbf1ba605b"
      },
      "execution_count": null,
      "outputs": [
        {
          "output_type": "stream",
          "name": "stdout",
          "text": [
            "Collecting libsvmdata\n",
            "  Downloading libsvmdata-0.4.1-py3-none-any.whl (7.0 kB)\n",
            "Collecting download (from libsvmdata)\n",
            "  Downloading download-0.3.5-py3-none-any.whl (8.8 kB)\n",
            "Requirement already satisfied: numpy>=1.12 in /usr/local/lib/python3.10/dist-packages (from libsvmdata) (1.23.5)\n",
            "Requirement already satisfied: scikit-learn in /usr/local/lib/python3.10/dist-packages (from libsvmdata) (1.2.2)\n",
            "Requirement already satisfied: scipy in /usr/local/lib/python3.10/dist-packages (from libsvmdata) (1.11.2)\n",
            "Requirement already satisfied: tqdm in /usr/local/lib/python3.10/dist-packages (from download->libsvmdata) (4.66.1)\n",
            "Requirement already satisfied: six in /usr/local/lib/python3.10/dist-packages (from download->libsvmdata) (1.16.0)\n",
            "Requirement already satisfied: requests in /usr/local/lib/python3.10/dist-packages (from download->libsvmdata) (2.31.0)\n",
            "Requirement already satisfied: joblib>=1.1.1 in /usr/local/lib/python3.10/dist-packages (from scikit-learn->libsvmdata) (1.3.2)\n",
            "Requirement already satisfied: threadpoolctl>=2.0.0 in /usr/local/lib/python3.10/dist-packages (from scikit-learn->libsvmdata) (3.2.0)\n",
            "Requirement already satisfied: charset-normalizer<4,>=2 in /usr/local/lib/python3.10/dist-packages (from requests->download->libsvmdata) (3.2.0)\n",
            "Requirement already satisfied: idna<4,>=2.5 in /usr/local/lib/python3.10/dist-packages (from requests->download->libsvmdata) (3.4)\n",
            "Requirement already satisfied: urllib3<3,>=1.21.1 in /usr/local/lib/python3.10/dist-packages (from requests->download->libsvmdata) (2.0.4)\n",
            "Requirement already satisfied: certifi>=2017.4.17 in /usr/local/lib/python3.10/dist-packages (from requests->download->libsvmdata) (2023.7.22)\n",
            "Installing collected packages: download, libsvmdata\n",
            "Successfully installed download-0.3.5 libsvmdata-0.4.1\n"
          ]
        }
      ]
    },
    {
      "cell_type": "code",
      "source": [
        "from libsvmdata import fetch_libsvm\n",
        "X, y = fetch_libsvm(\"diabetes_scale\")"
      ],
      "metadata": {
        "id": "DRnXsoyQSrg_",
        "colab": {
          "base_uri": "https://localhost:8080/"
        },
        "outputId": "f2875f55-c722-407b-deab-9e5e56a49f0d"
      },
      "execution_count": null,
      "outputs": [
        {
          "output_type": "stream",
          "name": "stdout",
          "text": [
            "file_sizes: 100%|███████████████████████████| 68.6k/68.6k [00:00<00:00, 652kB/s]\n"
          ]
        }
      ]
    },
    {
      "cell_type": "code",
      "source": [
        "a, b = np.unique(y, return_counts=True)\n",
        "plt.figure(figsize=(8, 6))\n",
        "\n",
        "plt.bar(a, b, color='skyblue')\n",
        "plt.xlabel('Class')\n",
        "plt.ylabel('Count')\n",
        "plt.title('Class Distribution')\n",
        "plt.xticks(a)\n",
        "bars = plt.bar(a,b, color='skyblue')\n",
        "for bar, count in zip(bars, b):\n",
        "    plt.text(bar.get_x() + bar.get_width() / 2 , bar.get_height() + 1, str(count), fontsize=10)\n",
        "plt.show()"
      ],
      "metadata": {
        "colab": {
          "base_uri": "https://localhost:8080/",
          "height": 564
        },
        "id": "LxaPyj--9IBe",
        "outputId": "fd1dc693-5469-4959-c153-77c5b765d986"
      },
      "execution_count": null,
      "outputs": [
        {
          "output_type": "display_data",
          "data": {
            "text/plain": [
              "<Figure size 800x600 with 1 Axes>"
            ],
            "image/png": "[encoded data removed]"
          },
          "metadata": {}
        }
      ]
    },
    {
      "cell_type": "markdown",
      "source": [
        "Training"
      ],
      "metadata": {
        "id": "-fqdw2CIWmsm"
      }
    },
    {
      "cell_type": "code",
      "source": [
        "from sklearn.model_selection import train_test_split #70,15,15\n",
        "X_train, X_1, y_train, y_1 = train_test_split(X,y, test_size = 0.3, random_state = 42)\n",
        "X_val, X_test, y_val, y_test = train_test_split(X_1,y_1, test_size = 0.5, random_state = 42)"
      ],
      "metadata": {
        "id": "YRy37t6mUsyv"
      },
      "execution_count": null,
      "outputs": []
    },
    {
      "cell_type": "code",
      "source": [
        "def initialize_weights_and_bias(n_features):\n",
        "    weights = np.zeros(n_features)\n",
        "    bias = 0\n",
        "    return weights, bias"
      ],
      "metadata": {
        "id": "uqXGkYMYU4fQ"
      },
      "execution_count": null,
      "outputs": []
    },
    {
      "cell_type": "code",
      "source": [
        "def train_perceptron(X, y, learning_rate=0.1, n_iterations=100):\n",
        "    n_samples, n_features = X.shape\n",
        "    weights, bias = initialize_weights_and_bias(n_features)\n",
        "\n",
        "    for _ in range(n_iterations):\n",
        "        for i in range(n_samples):\n",
        "            weighted_sum = np.dot(X[i], weights) + bias\n",
        "            y_predicted = np.where(weighted_sum > 0, 1, -1)\n",
        "            weights += learning_rate * (y[i] - y_predicted) * X[i]\n",
        "            bias += learning_rate * (y[i] - y_predicted)\n",
        "\n",
        "    return weights, bias"
      ],
      "metadata": {
        "id": "iVKUPBMqU67S"
      },
      "execution_count": null,
      "outputs": []
    },
    {
      "cell_type": "code",
      "source": [
        "def predict_perceptron(X, weights, bias):\n",
        "    weighted_sum = np.dot(X, weights) + bias\n",
        "    y_predicted = np.where(weighted_sum > 0, 1, -1)\n",
        "    return y_predicted"
      ],
      "metadata": {
        "id": "jRABeKePwAlA"
      },
      "execution_count": null,
      "outputs": []
    },
    {
      "cell_type": "code",
      "source": [
        "weights, bias = train_perceptron(X_train, y_train)\n",
        "y_pred = predict_perceptron(X_val, weights, bias)\n",
        "\n",
        "print(f\"Accuracy: { accuracy_score(y_val, y_pred)}\")\n",
        "print(f\"Precision: {precision_score(y_val, y_pred, pos_label=1)}\")\n",
        "print(f\"Recall: {recall_score(y_val, y_pred, pos_label=1)}\")\n",
        "print(f\"F1-score: {f1_score(y_val, y_pred, pos_label=1)}\")"
      ],
      "metadata": {
        "colab": {
          "base_uri": "https://localhost:8080/"
        },
        "id": "7_otAghiyHMX",
        "outputId": "fbad6296-2d56-4493-a6c6-27ef1828dfa3"
      },
      "execution_count": null,
      "outputs": [
        {
          "output_type": "stream",
          "name": "stdout",
          "text": [
            "Accuracy: 0.7652173913043478\n",
            "Precision: 0.8072289156626506\n",
            "Recall: 0.8589743589743589\n",
            "F1-score: 0.8322981366459627\n"
          ]
        }
      ]
    },
    {
      "cell_type": "markdown",
      "source": [
        "Tunning parameters"
      ],
      "metadata": {
        "id": "Pma8d-rHVKNW"
      }
    },
    {
      "cell_type": "code",
      "source": [
        "epochs = [20, 50, 100, 200, 500]\n",
        "\n",
        "best_max_epochs = None\n",
        "best_accuracy = 0.0\n",
        "\n",
        "for epoch in epochs:\n",
        "    weights, bias = train_perceptron(X_train, y_train, n_iterations=epoch)\n",
        "    y_pred = [predict_perceptron(sample, weights, bias) for sample in X_val]\n",
        "    accuracy = accuracy_score(y_val, y_pred)\n",
        "    print(f\"The number of epochs: {epoch} with the accuracy: {accuracy}\")\n",
        "    if accuracy > best_accuracy:\n",
        "        best_accuracy = accuracy\n",
        "        best_max_epochs = epoch\n",
        "\n",
        "print(f\"Best epochs: {best_max_epochs}\")\n",
        "print(f\"Best accuracy: {best_accuracy}\")"
      ],
      "metadata": {
        "colab": {
          "base_uri": "https://localhost:8080/"
        },
        "id": "m8aQHOjGVJhk",
        "outputId": "9ce46edb-c2da-4ce3-a8d7-a234bc1cdbce"
      },
      "execution_count": null,
      "outputs": [
        {
          "output_type": "stream",
          "name": "stdout",
          "text": [
            "The number of epochs: 20 with the accuracy: 0.7043478260869566\n",
            "The number of epochs: 50 with the accuracy: 0.782608695652174\n",
            "The number of epochs: 100 with the accuracy: 0.7652173913043478\n",
            "The number of epochs: 200 with the accuracy: 0.7739130434782608\n",
            "The number of epochs: 500 with the accuracy: 0.782608695652174\n",
            "Best epochs: 50\n",
            "Best accuracy: 0.782608695652174\n"
          ]
        }
      ]
    },
    {
      "cell_type": "code",
      "source": [
        "# Make predictions\n",
        "y_pred = predict_perceptron(X_test, weights, bias)\n",
        "\n",
        "print(f\"Accuracy: { accuracy_score(y_test, y_pred)}\")\n",
        "print(f\"Precision: {precision_score(y_test, y_pred, pos_label=1)}\")\n",
        "print(f\"Recall: {recall_score(y_test, y_pred, pos_label=1)}\")\n",
        "print(f\"F1-score: {f1_score(y_test, y_pred, pos_label=1)}\")"
      ],
      "metadata": {
        "colab": {
          "base_uri": "https://localhost:8080/"
        },
        "id": "hSBXeARXaKhW",
        "outputId": "6a570075-0624-41f3-ce12-52a19fedcfc5"
      },
      "execution_count": null,
      "outputs": [
        {
          "output_type": "stream",
          "name": "stdout",
          "text": [
            "Accuracy: 0.7327586206896551\n",
            "Precision: 0.7916666666666666\n",
            "Recall: 0.7808219178082192\n",
            "F1-score: 0.7862068965517242\n"
          ]
        }
      ]
    },
    {
      "cell_type": "markdown",
      "source": [
        "Training with seed = 0"
      ],
      "metadata": {
        "id": "YIpmBcmzWPiN"
      }
    },
    {
      "cell_type": "code",
      "source": [
        "from sklearn.model_selection import train_test_split #70,15,15\n",
        "X_train, X_1, y_train, y_1 = train_test_split(X,y, test_size = 0.3, random_state = 0)\n",
        "X_val, X_test, y_val, y_test = train_test_split(X_1,y_1, test_size = 0.5, random_state = 0)"
      ],
      "metadata": {
        "id": "Y27RplL7WN5A"
      },
      "execution_count": null,
      "outputs": []
    },
    {
      "cell_type": "code",
      "source": [
        "weights, bias = train_perceptron(X_train, y_train)\n",
        "y_pred = predict_perceptron(X_test, weights, bias)\n",
        "\n",
        "print(f\"Accuracy: { accuracy_score(y_test, y_pred)}\")\n",
        "print(f\"Precision: {precision_score(y_test, y_pred, pos_label=1)}\")\n",
        "print(f\"Recall: {recall_score(y_test, y_pred, pos_label=1)}\")\n",
        "print(f\"F1-score: {f1_score(y_test, y_pred, pos_label=1)}\")"
      ],
      "metadata": {
        "colab": {
          "base_uri": "https://localhost:8080/"
        },
        "id": "O3rrYyKxWU4Y",
        "outputId": "6a1f8669-b064-446f-e3e8-19e213fb09e7"
      },
      "execution_count": null,
      "outputs": [
        {
          "output_type": "stream",
          "name": "stdout",
          "text": [
            "Accuracy: 0.8189655172413793\n",
            "Precision: 0.8315789473684211\n",
            "Recall: 0.9404761904761905\n",
            "F1-score: 0.88268156424581\n"
          ]
        }
      ]
    },
    {
      "cell_type": "code",
      "source": [
        "epochs = [20, 50, 100, 200, 500]\n",
        "\n",
        "best_max_epochs = None\n",
        "best_accuracy = 0.0\n",
        "\n",
        "for epoch in epochs:\n",
        "    weights, bias = train_perceptron(X_train, y_train, n_iterations=epoch)\n",
        "    y_pred = [predict_perceptron(sample, weights, bias) for sample in X_val]\n",
        "    accuracy = accuracy_score(y_val, y_pred)\n",
        "    print(f\"The number of epochs: {epoch} with the accuracy: {accuracy}\")\n",
        "    if accuracy > best_accuracy:\n",
        "        best_accuracy = accuracy\n",
        "        best_max_epochs = epoch\n",
        "\n",
        "print(f\"Best epochs: {best_max_epochs}\")\n",
        "print(f\"Best accuracy: {best_accuracy}\")"
      ],
      "metadata": {
        "colab": {
          "base_uri": "https://localhost:8080/"
        },
        "id": "D1E43YB2WyLF",
        "outputId": "3698de58-38b6-454b-e9f0-96cda77749fc"
      },
      "execution_count": null,
      "outputs": [
        {
          "output_type": "stream",
          "name": "stdout",
          "text": [
            "The number of epochs: 20 with the accuracy: 0.7478260869565218\n",
            "The number of epochs: 50 with the accuracy: 0.7217391304347827\n",
            "The number of epochs: 100 with the accuracy: 0.7391304347826086\n",
            "The number of epochs: 200 with the accuracy: 0.6869565217391305\n",
            "The number of epochs: 500 with the accuracy: 0.7304347826086957\n",
            "Best epochs: 20\n",
            "Best accuracy: 0.7478260869565218\n"
          ]
        }
      ]
    },
    {
      "cell_type": "code",
      "source": [
        "weights, bias = train_perceptron(X_train, y_train, learning_rate=0.1, n_iterations=20)\n",
        "y_pred = predict_perceptron(X_test, weights, bias)\n",
        "\n",
        "print(f\"Accuracy: { accuracy_score(y_test, y_pred)}\")\n",
        "print(f\"Precision: {precision_score(y_test, y_pred, pos_label=1)}\")\n",
        "print(f\"Recall: {recall_score(y_test, y_pred, pos_label=1)}\")\n",
        "print(f\"F1-score: {f1_score(y_test, y_pred, pos_label=1)}\")"
      ],
      "metadata": {
        "colab": {
          "base_uri": "https://localhost:8080/"
        },
        "id": "j4WpYj4pW6FR",
        "outputId": "97e49bf3-5427-4e5b-8715-ce2d839eaa95"
      },
      "execution_count": null,
      "outputs": [
        {
          "output_type": "stream",
          "name": "stdout",
          "text": [
            "Accuracy: 0.8362068965517241\n",
            "Precision: 0.8494623655913979\n",
            "Recall: 0.9404761904761905\n",
            "F1-score: 0.8926553672316385\n"
          ]
        }
      ]
    },
    {
      "cell_type": "code",
      "source": [
        "from sklearn.metrics import classification_report\n",
        "report = classification_report(y_test, y_pred)\n",
        "print(\"Classification Report:\\n\", report)"
      ],
      "metadata": {
        "colab": {
          "base_uri": "https://localhost:8080/"
        },
        "id": "L1011GErXDbz",
        "outputId": "ae156b33-3890-4433-c7d8-096778a295df"
      },
      "execution_count": null,
      "outputs": [
        {
          "output_type": "stream",
          "name": "stdout",
          "text": [
            "Classification Report:\n",
            "               precision    recall  f1-score   support\n",
            "\n",
            "        -1.0       0.78      0.56      0.65        32\n",
            "         1.0       0.85      0.94      0.89        84\n",
            "\n",
            "    accuracy                           0.84       116\n",
            "   macro avg       0.82      0.75      0.77       116\n",
            "weighted avg       0.83      0.84      0.83       116\n",
            "\n"
          ]
        }
      ]
    },
    {
      "cell_type": "code",
      "source": [
        "from sklearn.metrics import confusion_matrix\n",
        "import seaborn as sns\n",
        "import matplotlib.pyplot as plt\n",
        "\n",
        "\n",
        "confusion = confusion_matrix(y_test, y_pred)\n",
        "plt.figure(figsize=(6, 6))\n",
        "sns.heatmap(confusion, annot=True, fmt='d', cbar=False,\n",
        "            xticklabels=['-1', '1'],\n",
        "            yticklabels=['-1', '1'])\n",
        "plt.xlabel('Predicted')\n",
        "plt.ylabel('True')\n",
        "plt.title('Confusion Matrix')\n",
        "plt.show()"
      ],
      "metadata": {
        "colab": {
          "base_uri": "https://localhost:8080/",
          "height": 564
        },
        "id": "prC_2qWdYtXL",
        "outputId": "c407f62b-ba08-48d4-80bc-8853f4c37b95"
      },
      "execution_count": null,
      "outputs": [
        {
          "output_type": "display_data",
          "data": {
            "text/plain": [
              "<Figure size 600x600 with 1 Axes>"
            ],
            "image/png": "[encoded data removed]"
          },
          "metadata": {}
        }
      ]
    }
  ]
}